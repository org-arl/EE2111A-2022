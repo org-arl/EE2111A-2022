{
 "cells": [
  {
   "cell_type": "code",
   "execution_count": 10,
   "metadata": {
    "slideshow": {
     "slide_type": "-"
    }
   },
   "outputs": [],
   "source": [
    "from ipywidgets import interact, interactive, fixed, interact_manual\n",
    "import ipywidgets as widgets\n",
    "import matplotlib.pyplot as plt\n",
    "import numpy as np\n",
    "%matplotlib inline"
   ]
  },
  {
   "attachments": {
    "RLC_AC.png": {
     "image/png": "[encoded data removed]"
    }
   },
   "cell_type": "markdown",
   "metadata": {},
   "source": [
    "![RLC_AC.png](attachment:RLC_AC.png)"
   ]
  },
  {
   "cell_type": "code",
   "execution_count": 11,
   "metadata": {
    "slideshow": {
     "slide_type": "-"
    }
   },
   "outputs": [],
   "source": [
    "def acplot(Vm, f, φ, R, L, C, showVr, showVl, showVc, showP):\n",
    "    ω = 2*np.pi*f\n",
    "    φ *= np.pi/180\n",
    "    L *= 1e-3\n",
    "    C *= 1e-6\n",
    "    t = np.linspace(0, 0.04, 100)\n",
    "    V = Vm*np.exp(1j*φ)\n",
    "    Z = R + 1j*ω*L - 1j/(ω*C) if C > 0 else R + 1j*ω*L\n",
    "    I = V/Z if np.abs(Z) > 0 else 0\n",
    "    Vr = I*R\n",
    "    Vl = I*1j*ω*L\n",
    "    Vc = -I*1j/(ω*C) if C > 0 else 0\n",
    "    v = Vm*np.cos(ω*t+φ)\n",
    "    i = np.abs(I)*np.cos(ω*t+np.angle(I))\n",
    "    vr = np.abs(Vr)*np.cos(ω*t+np.angle(Vr))\n",
    "    vl = np.abs(Vl)*np.cos(ω*t+np.angle(Vl))\n",
    "    vc = np.abs(Vc)*np.cos(ω*t+np.angle(Vc))\n",
    "    plt.figure(figsize=(20, 10))\n",
    "    g = plt.GridSpec(1, 5)\n",
    "    ax = plt.subplot(g[0,0:3])\n",
    "    ax.plot(t, v, 'b', label='V(t) = Vm cos(ωt + φ)')\n",
    "    ax.plot(t, 1000*i, 'g:', label='i(t)')\n",
    "    if showVr:\n",
    "        ax.plot(t, vr, 'r', label='vR(t)')\n",
    "    if showVl:\n",
    "        ax.plot(t, vl, 'y', label='vL(t)')\n",
    "    if showVc:\n",
    "        ax.plot(t, vc, 'm', label='vC(t)')\n",
    "    if showP:\n",
    "        ax.plot(t, 1000*v*i, 'k--', label='Power consumed')\n",
    "    plt.xlabel('Time (seconds)', fontsize=18)\n",
    "    plt.ylabel('Voltage (V) / Current (mA) / Power (mW)', fontsize=18)\n",
    "    ax.axis([0, 0.04, -10, 10])\n",
    "    ax.grid()\n",
    "    ax.legend(fontsize=18)\n",
    "    ax = plt.subplot(g[0,3:5])\n",
    "    ax.plot([0, V.real], [0, V.imag], 'b', label='V')\n",
    "    ax.plot(0, 0, 'ko')\n",
    "    ax.plot(V.real, V.imag, 'bo')\n",
    "    ax.text((1.1*V).real, (1.1*V).imag, 'V', fontsize=18, color='b')\n",
    "    ax.plot([0, 1000*I.real], [0, 1000*I.imag], 'g', label='I')\n",
    "    ax.plot(1000*I.real, 1000*I.imag, 'gs')\n",
    "    ax.text(1000*I.real+0.25, 1000*I.imag-0.5, 'I', fontsize=18, color='g')\n",
    "    if showVr:\n",
    "        ax.plot([0, Vr.real], [0, Vr.imag], 'r', label='VR')\n",
    "        ax.plot(Vr.real, Vr.imag, 'ro')\n",
    "        ax.text(Vr.real+0.25, Vr.imag-0.5, 'VR', fontsize=18, color='r')\n",
    "    if showVl:\n",
    "        ax.plot([0, Vl.real], [0, Vl.imag], 'y', label='VL')\n",
    "        ax.plot(Vl.real, Vl.imag, 'yo')\n",
    "        ax.text(Vl.real, Vl.imag+0.5, 'VL', fontsize=18, color='y')\n",
    "    if showVc:\n",
    "        ax.plot([0, Vc.real], [0, Vc.imag], 'm', label='VC')\n",
    "        ax.plot(Vc.real, Vc.imag, 'mo')\n",
    "        ax.text(Vc.real, Vc.imag+0.5, 'VC', fontsize=18, color='m')\n",
    "    if showVr and showVl and showVc:\n",
    "        ax.plot([Vc.real, Vc.real+Vr.real], [Vc.imag, Vc.imag+Vr.imag], 'r:')\n",
    "        ax.plot([Vc.real+Vr.real, Vc.real+Vr.real+Vl.real], [Vc.imag+Vr.imag, Vc.imag+Vr.imag+Vl.imag], 'y:')\n",
    "    ax.axis([-7, 7, -7, 7])\n",
    "    ax.set_aspect('equal', 'box')\n",
    "    ax.grid()\n",
    "    plt.show()"
   ]
  },
  {
   "cell_type": "code",
   "execution_count": 12,
   "metadata": {
    "slideshow": {
     "slide_type": "-"
    }
   },
   "outputs": [
    {
     "data": {
      "application/vnd.jupyter.widget-view+json": {
       "model_id": "d77befd037b94456aa29ddd55016d986",
       "version_major": 2,
       "version_minor": 0
      },
      "text/plain": [
       "interactive(children=(FloatSlider(value=5.0, description='Vm (V)', max=10.0, readout_format='.0f', step=1.0), …"
      ]
     },
     "metadata": {},
     "output_type": "display_data"
    }
   ],
   "source": [
    "interact(acplot,\n",
    "         Vm = widgets.FloatSlider(value=5, min=0, max=10, step=1, description='Vm (V)', readout_format='.0f'),\n",
    "         f = widgets.FloatSlider(value=50, min=0, max=100, step=10, description='f (Hz)', readout_format='.0f'),\n",
    "         φ = widgets.FloatSlider(value=0, min=-180, max=180, step=22.5, description='φ (degrees)', readout_format='.1f'),\n",
    "         R = widgets.FloatSlider(value=2500, min=0, max=5000, step=100, description='R (Ω)', readout_format='.0f'),\n",
    "         L = widgets.FloatSlider(value=1000, min=0, max=5000, step=100, description='L (mH)', readout_format='.0f'),\n",
    "         C = widgets.FloatLogSlider(value=2, base=10, min=-2, max=3, step=0.1, description='C (μF)', readout_format='.2f'),\n",
    "         showVr = widgets.Checkbox(value=False, description='Show VR'),\n",
    "         showVl = widgets.Checkbox(value=False, description='Show VL'),\n",
    "         showVc = widgets.Checkbox(value=False, description='Show VC'),\n",
    "         showP = widgets.Checkbox(value=False, description='Show total power consumed')\n",
    "        );"
   ]
  },
  {
   "cell_type": "code",
   "execution_count": null,
   "metadata": {},
   "outputs": [],
   "source": []
  }
 ],
 "metadata": {
  "kernelspec": {
   "display_name": "Python 3",
   "language": "python",
   "name": "python3"
  },
  "language_info": {
   "codemirror_mode": {
    "name": "ipython",
    "version": 3
   },
   "file_extension": ".py",
   "mimetype": "text/x-python",
   "name": "python",
   "nbconvert_exporter": "python",
   "pygments_lexer": "ipython3",
   "version": "3.7.1"
  }
 },
 "nbformat": 4,
 "nbformat_minor": 2
}
